{
 "cells": [
  {
   "cell_type": "code",
   "execution_count": 1,
   "id": "cf0d07f5",
   "metadata": {},
   "outputs": [],
   "source": [
    "import numpy as np\n",
    "from jiminy_py.simulator import Simulator\n",
    "from jiminy_py.robot import BaseJiminyRobot\n",
    "\n",
    "SIMULATION_END_TIME = 10.0\n",
    "urdf_path = \"double_pendulum.urdf\"\n",
    "hardware_path = \"double_pendulum_hardware.toml\"\n",
    "\n",
    "robot = BaseJiminyRobot()\n",
    "robot.initialize(urdf_path, hardware_path, has_freeflyer=False)",
    "\n",
    "simulator = Simulator(robot)\n",
    "simulator.import_options(\"simulation_config.toml\")\n",
    "\n",
    "q0 = np.zeros(2)\n",
    "v0 = np.random.rand(2)\n",
    "simulator.simulate(SIMULATION_END_TIME, q0, v0)\n",
    "\n",
    "simulator.close()\n",
    "simulator.replay(backend='panda3d-sync')\n",
    "simulator.viewer.close()\n",
   ]
  }
 ],
 "metadata": {
  "kernelspec": {
   "display_name": "Python 3 (ipykernel)",
   "language": "python",
   "name": "python3"
  },
  "language_info": {
   "codemirror_mode": {
    "name": "ipython",
    "version": 3
   },
   "file_extension": ".py",
   "mimetype": "text/x-python",
   "name": "python",
   "nbconvert_exporter": "python",
   "pygments_lexer": "ipython3",
   "version": "3.8.16"
  }
 },
 "nbformat": 4,
 "nbformat_minor": 5
}
