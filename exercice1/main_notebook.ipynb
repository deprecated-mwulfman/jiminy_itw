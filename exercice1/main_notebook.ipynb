{
 "cells": [
  {
   "cell_type": "code",
   "execution_count": 1,
   "id": "cf0d07f5",
   "metadata": {},
   "outputs": [
    {
     "ename": "",
     "evalue": "",
     "output_type": "error",
     "traceback": [
      "\u001b[1;31mCanceled future for execute_request message before replies were done"
     ]
    },
    {
     "ename": "",
     "evalue": "",
     "output_type": "error",
     "traceback": [
      "\u001b[1;31mThe Kernel crashed while executing code in the the current cell or a previous cell. Please review the code in the cell(s) to identify a possible cause of the failure. Click <a href='https://aka.ms/vscodeJupyterKernelCrash'>here</a> for more info. View Jupyter <a href='command:jupyter.viewOutput'>log</a> for further details."
     ]
    }
   ],
   "source": [
    "import numpy as np\n",
    "from jiminy_py.simulator import Simulator\n",
    "from jiminy_py.robot import BaseJiminyRobot\n",
    "\n",
    "SIMULATION_END_TIME = 10.0\n",
    "urdf_path = \"double_pendulum.urdf\"\n",
    "hardware_path = \"double_pendulum_hardware.toml\"\n",
    "\n",
    "robot = BaseJiminyRobot()\n",
    "robot.initialize(urdf_path, hardware_path, has_freeflyer=False)"
   ]
  },
  {
   "cell_type": "code",
   "execution_count": null,
   "id": "edb343ef",
   "metadata": {},
   "outputs": [],
   "source": [
    "simulator = Simulator(robot)\n",
    "simulator.import_options(\"simulation_config.toml\")\n",
    "\n",
    "q0 = np.zeros(2)\n",
    "v0 = np.random.rand(2)\n",
    "simulator.simulate(SIMULATION_END_TIME, q0, v0)\n",
    "simulator.close()\n",
    "simulator.replay()"
   ]
  }
 ],
 "metadata": {
  "kernelspec": {
   "display_name": "Python 3 (ipykernel)",
   "language": "python",
   "name": "python3"
  },
  "language_info": {
   "codemirror_mode": {
    "name": "ipython",
    "version": 3
   },
   "file_extension": ".py",
   "mimetype": "text/x-python",
   "name": "python",
   "nbconvert_exporter": "python",
   "pygments_lexer": "ipython3",
   "version": "3.8.16"
  }
 },
 "nbformat": 4,
 "nbformat_minor": 5
}
